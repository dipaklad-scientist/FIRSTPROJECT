{
 "cells": [
  {
   "cell_type": "markdown",
   "id": "96cf1f71-982e-42c4-ab10-1152bebd8e68",
   "metadata": {},
   "source": [
    "# Data Science Tools and Ecosystem"
   ]
  },
  {
   "cell_type": "markdown",
   "id": "990dc156-1811-42d2-89b7-b25b28540213",
   "metadata": {},
   "source": [
    "In this notebook, Data Science Tools and Ecosystem are summarized."
   ]
  },
  {
   "cell_type": "markdown",
   "id": "4616b9a7-9ce0-415d-825a-f1d0e3b141e8",
   "metadata": {},
   "source": [
    "**Objectives:**\n",
    "- List popular languages for Data Science\n",
    "- List of commonly used libraries used by Data Scientists\n",
    "- Tools for Data Science\n",
    "- Some arithmetic expressions in Python"
   ]
  },
  {
   "cell_type": "markdown",
   "id": "4df109c4-d787-4822-a5f7-6c36df01d430",
   "metadata": {},
   "source": [
    "Some of the popular languages that Data Scientists use are:\n",
    "1. Python\n",
    "2. SQL\n",
    "3. R\n",
    "4. Java\n",
    "5. Scala"
   ]
  },
  {
   "cell_type": "markdown",
   "id": "eae6882e-69d0-4590-8b57-fd2a26b0573d",
   "metadata": {},
   "source": [
    "Some of the commonly used libraries used by Data Scientists include:\n",
    "1. Pandas\n",
    "2. NumPy\n",
    "3. Matplotlib\n",
    "4. Scikit-learn\n",
    "5. TensorFlow\n"
   ]
  },
  {
   "cell_type": "markdown",
   "id": "100e364d-1c25-4c78-addd-79213f35aa9a",
   "metadata": {},
   "source": [
    "| Data Science Tools|\n",
    ":--------------------:\n",
    "|Jupyter Notebooks|\n",
    "|Git|\n",
    "|Python|"
   ]
  },
  {
   "cell_type": "markdown",
   "id": "be3884ce-1d50-444a-9a96-14e285b36682",
   "metadata": {},
   "source": [
    "### Below are a few examples of evaluating arithmetic expressions in Python"
   ]
  },
  {
   "cell_type": "code",
   "execution_count": 36,
   "id": "b8248746-0873-4803-a769-9a75c82283be",
   "metadata": {},
   "outputs": [
    {
     "data": {
      "text/plain": [
       "17"
      ]
     },
     "execution_count": 36,
     "metadata": {},
     "output_type": "execute_result"
    }
   ],
   "source": [
    "#This a simple arithmetic expression to mutiply then add integers\n",
    "(3*4)+5"
   ]
  },
  {
   "cell_type": "code",
   "execution_count": 38,
   "id": "ddd49cbe-1059-444e-a301-3f96e9b03a29",
   "metadata": {},
   "outputs": [
    {
     "data": {
      "text/plain": [
       "3.3333333333333335"
      ]
     },
     "execution_count": 38,
     "metadata": {},
     "output_type": "execute_result"
    }
   ],
   "source": [
    "#This will convert 200 minutes to hours by diving by 60\n",
    "200/60"
   ]
  },
  {
   "cell_type": "markdown",
   "id": "43e2b022-c844-46e1-873a-d7cc4d8abdcc",
   "metadata": {},
   "source": [
    "## Author\n",
    "Dipak Yuvaraj Lad"
   ]
  },
  {
   "cell_type": "code",
   "execution_count": null,
   "id": "2bd426d5-680e-4e8f-97ee-ca614fa0b976",
   "metadata": {},
   "outputs": [],
   "source": []
  }
 ],
 "metadata": {
  "kernelspec": {
   "display_name": "Python [conda env:base] *",
   "language": "python",
   "name": "conda-base-py"
  },
  "language_info": {
   "codemirror_mode": {
    "name": "ipython",
    "version": 3
   },
   "file_extension": ".py",
   "mimetype": "text/x-python",
   "name": "python",
   "nbconvert_exporter": "python",
   "pygments_lexer": "ipython3",
   "version": "3.12.7"
  }
 },
 "nbformat": 4,
 "nbformat_minor": 5
}
