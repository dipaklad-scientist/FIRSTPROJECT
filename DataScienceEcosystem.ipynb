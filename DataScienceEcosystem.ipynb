{
 "cells": [
  {
   "cell_type": "markdown",
   "id": "4dd80fff-e304-4d36-81a9-1c7bce14a34d",
   "metadata": {},
   "source": [
    "# Data Science Tools and Ecosystem"
   ]
  },
  {
   "cell_type": "markdown",
   "id": "628f4431-d5a4-4ff8-b654-96216fa40755",
   "metadata": {},
   "source": [
    "In this notebook, Data Science Tools and Ecosystem are summarized."
   ]
  },
  {
   "cell_type": "markdown",
   "id": "07e15a8a-4f50-4ed9-acda-4651f1d8608b",
   "metadata": {},
   "source": [
    "__Objectives:__"
   ]
  },
  {
   "cell_type": "markdown",
   "id": "5b69c04a-1d63-418f-965d-7d5fccb2664b",
   "metadata": {},
   "source": [
    "- List popular languages for Data Science\n",
    "- Libraries used by Data Scientists\n",
    "- Data Science Tools"
   ]
  },
  {
   "cell_type": "markdown",
   "id": "14904768-1a44-4fd7-94c5-d8b52c5accd1",
   "metadata": {},
   "source": [
    "Some of the popular languages that Data Scientists use are:"
   ]
  },
  {
   "cell_type": "markdown",
   "id": "119a7a7d-50c9-47b3-9e7c-a082dfd82f62",
   "metadata": {},
   "source": [
    "1 Python"
   ]
  },
  {
   "cell_type": "markdown",
   "id": "331586cf-83d4-4f14-99f2-b3389c7d01da",
   "metadata": {},
   "source": [
    "2 R"
   ]
  },
  {
   "cell_type": "markdown",
   "id": "8856ce21-c617-4167-941d-a0abf00b6dd5",
   "metadata": {},
   "source": [
    "3 SQL"
   ]
  },
  {
   "cell_type": "markdown",
   "id": "8ef8b7c7-0e6a-470b-8673-5418b1428af6",
   "metadata": {},
   "source": [
    "4 JAVA"
   ]
  },
  {
   "cell_type": "markdown",
   "id": "fad00a88-44a7-4b87-ba2d-c6591cc35432",
   "metadata": {},
   "source": [
    "Some of the commonly used libraries used by Data Scientists include:"
   ]
  },
  {
   "cell_type": "markdown",
   "id": "62bd4e17-4ddf-47a6-9cfa-32f1e1ee755b",
   "metadata": {},
   "source": [
    "1 Pandas "
   ]
  },
  {
   "cell_type": "markdown",
   "id": "0906a520-c69f-46d9-a7fa-60e4e1ddf52b",
   "metadata": {},
   "source": [
    "2 NumPy"
   ]
  },
  {
   "cell_type": "markdown",
   "id": "72d6e500-ea60-4322-8a59-0725023c1c7a",
   "metadata": {},
   "source": [
    "3 Marplotlib"
   ]
  },
  {
   "cell_type": "markdown",
   "id": "df92c9f4-a7b3-4e36-9ecd-7fc58310c32f",
   "metadata": {},
   "source": [
    "Data Science Tools"
   ]
  },
  {
   "cell_type": "markdown",
   "id": "248177c3-dfb9-4716-ab65-43ef3b78a232",
   "metadata": {},
   "source": [
    "Jupyter Notebook"
   ]
  },
  {
   "cell_type": "markdown",
   "id": "95af4874-32c7-4e0c-aeca-05aad5fd1288",
   "metadata": {},
   "source": [
    "Visual Studio Code"
   ]
  },
  {
   "cell_type": "markdown",
   "id": "93066320-4bc4-4d21-ae1f-b9bf919d8f65",
   "metadata": {},
   "source": [
    "Google Colab"
   ]
  },
  {
   "cell_type": "markdown",
   "id": "1a50ed2d-c1cf-43d4-b249-3b7c7d143ee1",
   "metadata": {},
   "source": [
    "### Below are a few examples of evaluating arithmetic expressions in Python"
   ]
  },
  {
   "cell_type": "markdown",
   "id": "7d625960-29d8-4db8-b27e-1dfa012533ce",
   "metadata": {},
   "source": [
    "This a simple arithmetic expression to mutiply then add integers"
   ]
  },
  {
   "cell_type": "code",
   "execution_count": 50,
   "id": "126800dc-a37c-4173-ab29-00e028d1f397",
   "metadata": {},
   "outputs": [
    {
     "data": {
      "text/plain": [
       "17"
      ]
     },
     "execution_count": 50,
     "metadata": {},
     "output_type": "execute_result"
    }
   ],
   "source": [
    "(3*4)+5"
   ]
  },
  {
   "cell_type": "markdown",
   "id": "73f36be7-745c-458b-8ba3-212b192441c6",
   "metadata": {},
   "source": [
    "This will convert 200 minutes to hours by diving by 60"
   ]
  },
  {
   "cell_type": "markdown",
   "id": "da5d208b-a5ae-408d-b3f6-5646781cb50b",
   "metadata": {},
   "source": [
    "Assume X=minites and Y= hourse\n"
   ]
  },
  {
   "cell_type": "code",
   "execution_count": 57,
   "id": "b7e6f7b2-5a77-4663-8226-3888310ed66d",
   "metadata": {},
   "outputs": [
    {
     "name": "stdout",
     "output_type": "stream",
     "text": [
      "3.3333333333333335\n"
     ]
    }
   ],
   "source": [
    "x=200\n",
    "y=x/60\n",
    "print(y)\n"
   ]
  },
  {
   "cell_type": "code",
   "execution_count": null,
   "id": "5fd6a80a-b699-4d24-bf89-6dfe674fdb5a",
   "metadata": {},
   "outputs": [],
   "source": []
  },
  {
   "cell_type": "markdown",
   "id": "ac8316dc-fb09-479a-b387-d6ecf29e01b2",
   "metadata": {},
   "source": [
    "## Author"
   ]
  },
  {
   "cell_type": "markdown",
   "id": "3f834c6f-68f0-44c0-85ae-e8fc9aa3317c",
   "metadata": {},
   "source": [
    "DIPAK YUVARAJ LAD"
   ]
  },
  {
   "cell_type": "code",
   "execution_count": null,
   "id": "8a566a68-e3d6-445b-8469-38e039eed174",
   "metadata": {},
   "outputs": [],
   "source": []
  }
 ],
 "metadata": {
  "kernelspec": {
   "display_name": "Python [conda env:base] *",
   "language": "python",
   "name": "conda-base-py"
  },
  "language_info": {
   "codemirror_mode": {
    "name": "ipython",
    "version": 3
   },
   "file_extension": ".py",
   "mimetype": "text/x-python",
   "name": "python",
   "nbconvert_exporter": "python",
   "pygments_lexer": "ipython3",
   "version": "3.12.7"
  }
 },
 "nbformat": 4,
 "nbformat_minor": 5
}
